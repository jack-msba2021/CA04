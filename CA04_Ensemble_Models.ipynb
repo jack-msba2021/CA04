{
  "nbformat": 4,
  "nbformat_minor": 0,
  "metadata": {
    "colab": {
      "name": "CA04 - Ensemble Models",
      "provenance": [],
      "collapsed_sections": []
    },
    "kernelspec": {
      "name": "python3",
      "display_name": "Python 3"
    }
  },
  "cells": [
    {
      "cell_type": "markdown",
      "metadata": {
        "id": "UDHiD7FSvxTU"
      },
      "source": [
        "**Program Initialization Section**\n",
        "\n",
        "Import packages here\n"
      ]
    },
    {
      "cell_type": "code",
      "metadata": {
        "colab": {
          "base_uri": "https://localhost:8080/"
        },
        "id": "eM3pk6fhwCRY",
        "outputId": "a4b8bb95-ea81-49ec-9895-c5196ad850b7"
      },
      "source": [
        "import pandas as pd\n",
        "import numpy as np\n",
        "import matplotlib.pyplot as plt\n",
        "from sklearn.model_selection import train_test_split\n",
        "from sklearn.ensemble import RandomForestClassifier, AdaBoostClassifier, GradientBoostingClassifier\n",
        "from sklearn import metrics\n",
        "from sklearn.tree import DecisionTreeClassifier\n",
        "!pip install xgboost\n",
        "from sklearn import datasets\n",
        "import xgboost as xgb"
      ],
      "execution_count": 74,
      "outputs": [
        {
          "output_type": "stream",
          "text": [
            "Requirement already satisfied: xgboost in /usr/local/lib/python3.7/dist-packages (0.90)\n",
            "Requirement already satisfied: scipy in /usr/local/lib/python3.7/dist-packages (from xgboost) (1.4.1)\n",
            "Requirement already satisfied: numpy in /usr/local/lib/python3.7/dist-packages (from xgboost) (1.19.5)\n"
          ],
          "name": "stdout"
        }
      ]
    },
    {
      "cell_type": "markdown",
      "metadata": {
        "id": "iEg4cj9bs2l4"
      },
      "source": [
        "**1. Data Source and Contents**\n",
        "\n",
        "    The dataset is obtained from the Census Bureau and represents salaries of people along with seven demographic variables. The following is a description of our dataset:\n",
        "\n",
        "    • Number of target classes: 2 ('>50K' and '<=50K') \n",
        "        [ Labels: 1, 0 ]\n",
        "    • Number of attributes (Columns): 7\n",
        "\n",
        "    • Number of instances (Rows): 48,842\n"
      ]
    },
    {
      "cell_type": "markdown",
      "metadata": {
        "id": "mroX8Lvet8Js"
      },
      "source": [
        "**2. Data Quality Analysis**\n",
        "\n",
        "    Perform a Data Quality Analysis to find missing values, outliers, NaNs etc.\n",
        "    • Display descriptive statistics of each column\n",
        "    • Perform necessary data cleansing and transformation based on your observations from the data quality analysis"
      ]
    },
    {
      "cell_type": "code",
      "metadata": {
        "colab": {
          "base_uri": "https://localhost:8080/",
          "height": 275
        },
        "id": "1I1IbyZ6uU9w",
        "outputId": "5b4f7676-a96f-4836-ee7c-e2448b98d112"
      },
      "source": [
        "#Reading in the dataset\n",
        "data = pd.read_csv('census_data (1).csv')\n",
        "\n",
        "data.head()"
      ],
      "execution_count": 22,
      "outputs": [
        {
          "output_type": "execute_result",
          "data": {
            "text/html": [
              "<div>\n",
              "<style scoped>\n",
              "    .dataframe tbody tr th:only-of-type {\n",
              "        vertical-align: middle;\n",
              "    }\n",
              "\n",
              "    .dataframe tbody tr th {\n",
              "        vertical-align: top;\n",
              "    }\n",
              "\n",
              "    .dataframe thead th {\n",
              "        text-align: right;\n",
              "    }\n",
              "</style>\n",
              "<table border=\"1\" class=\"dataframe\">\n",
              "  <thead>\n",
              "    <tr style=\"text-align: right;\">\n",
              "      <th></th>\n",
              "      <th>hours_per_week_bin</th>\n",
              "      <th>occupation_bin</th>\n",
              "      <th>msr_bin</th>\n",
              "      <th>capital_gl_bin</th>\n",
              "      <th>race_sex_bin</th>\n",
              "      <th>education_num_bin</th>\n",
              "      <th>education_bin</th>\n",
              "      <th>workclass_bin</th>\n",
              "      <th>age_bin</th>\n",
              "      <th>flag</th>\n",
              "      <th>y</th>\n",
              "    </tr>\n",
              "  </thead>\n",
              "  <tbody>\n",
              "    <tr>\n",
              "      <th>0</th>\n",
              "      <td>b. 31-40</td>\n",
              "      <td>b. Mid - Low</td>\n",
              "      <td>b. Mid</td>\n",
              "      <td>c. &gt; 0</td>\n",
              "      <td>c. High</td>\n",
              "      <td>c. 13</td>\n",
              "      <td>c. Bachelors</td>\n",
              "      <td>b. income</td>\n",
              "      <td>d. 36-40 &amp; 56-60</td>\n",
              "      <td>train</td>\n",
              "      <td>0</td>\n",
              "    </tr>\n",
              "    <tr>\n",
              "      <th>1</th>\n",
              "      <td>a. 0-30</td>\n",
              "      <td>e. High</td>\n",
              "      <td>c. High</td>\n",
              "      <td>a. = 0</td>\n",
              "      <td>c. High</td>\n",
              "      <td>c. 13</td>\n",
              "      <td>c. Bachelors</td>\n",
              "      <td>b. income</td>\n",
              "      <td>e. 40-55</td>\n",
              "      <td>train</td>\n",
              "      <td>0</td>\n",
              "    </tr>\n",
              "    <tr>\n",
              "      <th>2</th>\n",
              "      <td>b. 31-40</td>\n",
              "      <td>a. Low</td>\n",
              "      <td>b. Mid</td>\n",
              "      <td>a. = 0</td>\n",
              "      <td>c. High</td>\n",
              "      <td>b. 9-12</td>\n",
              "      <td>b. Mid</td>\n",
              "      <td>b. income</td>\n",
              "      <td>d. 36-40 &amp; 56-60</td>\n",
              "      <td>train</td>\n",
              "      <td>0</td>\n",
              "    </tr>\n",
              "    <tr>\n",
              "      <th>3</th>\n",
              "      <td>b. 31-40</td>\n",
              "      <td>a. Low</td>\n",
              "      <td>c. High</td>\n",
              "      <td>a. = 0</td>\n",
              "      <td>b. Mid</td>\n",
              "      <td>a. 0-8</td>\n",
              "      <td>a. Low</td>\n",
              "      <td>b. income</td>\n",
              "      <td>e. 40-55</td>\n",
              "      <td>train</td>\n",
              "      <td>0</td>\n",
              "    </tr>\n",
              "    <tr>\n",
              "      <th>4</th>\n",
              "      <td>b. 31-40</td>\n",
              "      <td>e. High</td>\n",
              "      <td>c. High</td>\n",
              "      <td>a. = 0</td>\n",
              "      <td>a. Low</td>\n",
              "      <td>c. 13</td>\n",
              "      <td>c. Bachelors</td>\n",
              "      <td>b. income</td>\n",
              "      <td>b. 26-30 &amp; 71-100</td>\n",
              "      <td>train</td>\n",
              "      <td>0</td>\n",
              "    </tr>\n",
              "  </tbody>\n",
              "</table>\n",
              "</div>"
            ],
            "text/plain": [
              "  hours_per_week_bin occupation_bin  msr_bin  ...            age_bin   flag  y\n",
              "0           b. 31-40   b. Mid - Low   b. Mid  ...   d. 36-40 & 56-60  train  0\n",
              "1            a. 0-30        e. High  c. High  ...           e. 40-55  train  0\n",
              "2           b. 31-40         a. Low   b. Mid  ...   d. 36-40 & 56-60  train  0\n",
              "3           b. 31-40         a. Low  c. High  ...           e. 40-55  train  0\n",
              "4           b. 31-40        e. High  c. High  ...  b. 26-30 & 71-100  train  0\n",
              "\n",
              "[5 rows x 11 columns]"
            ]
          },
          "metadata": {
            "tags": []
          },
          "execution_count": 22
        }
      ]
    },
    {
      "cell_type": "code",
      "metadata": {
        "colab": {
          "base_uri": "https://localhost:8080/",
          "height": 224
        },
        "id": "lVvxgsnU0ucN",
        "outputId": "5ce966dd-4e81-4735-c4de-9bfb8a631319"
      },
      "source": [
        "# Data Transformation to Integer\n",
        "\n",
        "modeling_data = data.copy()\n",
        "\n",
        "modeling_data.replace(regex={r'[a]. ': 1, r'[b]. ': 2,r'[c]. ': 3, r'[d]. ': 4,r'[e]. ': 5}, inplace = True)\n",
        "modeling_data.head() # conversion successful\n",
        "modeling_data_test = modeling_data[modeling_data.flag == 'test']\n",
        "modeling_data_train = modeling_data[modeling_data.flag == 'train']\n",
        "\n",
        "modeling_data_train.head()\n",
        "modeling_data_train.tail() # the data has been successfully split by flag"
      ],
      "execution_count": 33,
      "outputs": [
        {
          "output_type": "execute_result",
          "data": {
            "text/html": [
              "<div>\n",
              "<style scoped>\n",
              "    .dataframe tbody tr th:only-of-type {\n",
              "        vertical-align: middle;\n",
              "    }\n",
              "\n",
              "    .dataframe tbody tr th {\n",
              "        vertical-align: top;\n",
              "    }\n",
              "\n",
              "    .dataframe thead th {\n",
              "        text-align: right;\n",
              "    }\n",
              "</style>\n",
              "<table border=\"1\" class=\"dataframe\">\n",
              "  <thead>\n",
              "    <tr style=\"text-align: right;\">\n",
              "      <th></th>\n",
              "      <th>hours_per_week_bin</th>\n",
              "      <th>occupation_bin</th>\n",
              "      <th>msr_bin</th>\n",
              "      <th>capital_gl_bin</th>\n",
              "      <th>race_sex_bin</th>\n",
              "      <th>education_num_bin</th>\n",
              "      <th>education_bin</th>\n",
              "      <th>workclass_bin</th>\n",
              "      <th>age_bin</th>\n",
              "      <th>flag</th>\n",
              "      <th>y</th>\n",
              "    </tr>\n",
              "  </thead>\n",
              "  <tbody>\n",
              "    <tr>\n",
              "      <th>0</th>\n",
              "      <td>2</td>\n",
              "      <td>2</td>\n",
              "      <td>2</td>\n",
              "      <td>3</td>\n",
              "      <td>3</td>\n",
              "      <td>3</td>\n",
              "      <td>3</td>\n",
              "      <td>2</td>\n",
              "      <td>4</td>\n",
              "      <td>train</td>\n",
              "      <td>0</td>\n",
              "    </tr>\n",
              "    <tr>\n",
              "      <th>1</th>\n",
              "      <td>1</td>\n",
              "      <td>5</td>\n",
              "      <td>3</td>\n",
              "      <td>1</td>\n",
              "      <td>3</td>\n",
              "      <td>3</td>\n",
              "      <td>3</td>\n",
              "      <td>2</td>\n",
              "      <td>5</td>\n",
              "      <td>train</td>\n",
              "      <td>0</td>\n",
              "    </tr>\n",
              "    <tr>\n",
              "      <th>2</th>\n",
              "      <td>2</td>\n",
              "      <td>1</td>\n",
              "      <td>2</td>\n",
              "      <td>1</td>\n",
              "      <td>3</td>\n",
              "      <td>2</td>\n",
              "      <td>2</td>\n",
              "      <td>2</td>\n",
              "      <td>4</td>\n",
              "      <td>train</td>\n",
              "      <td>0</td>\n",
              "    </tr>\n",
              "    <tr>\n",
              "      <th>3</th>\n",
              "      <td>2</td>\n",
              "      <td>1</td>\n",
              "      <td>3</td>\n",
              "      <td>1</td>\n",
              "      <td>2</td>\n",
              "      <td>1</td>\n",
              "      <td>1</td>\n",
              "      <td>2</td>\n",
              "      <td>5</td>\n",
              "      <td>train</td>\n",
              "      <td>0</td>\n",
              "    </tr>\n",
              "    <tr>\n",
              "      <th>4</th>\n",
              "      <td>2</td>\n",
              "      <td>5</td>\n",
              "      <td>3</td>\n",
              "      <td>1</td>\n",
              "      <td>1</td>\n",
              "      <td>3</td>\n",
              "      <td>3</td>\n",
              "      <td>2</td>\n",
              "      <td>2</td>\n",
              "      <td>train</td>\n",
              "      <td>0</td>\n",
              "    </tr>\n",
              "  </tbody>\n",
              "</table>\n",
              "</div>"
            ],
            "text/plain": [
              "   hours_per_week_bin  occupation_bin  msr_bin  ...  age_bin   flag  y\n",
              "0                   2               2        2  ...        4  train  0\n",
              "1                   1               5        3  ...        5  train  0\n",
              "2                   2               1        2  ...        4  train  0\n",
              "3                   2               1        3  ...        5  train  0\n",
              "4                   2               5        3  ...        2  train  0\n",
              "\n",
              "[5 rows x 11 columns]"
            ]
          },
          "metadata": {
            "tags": []
          },
          "execution_count": 33
        }
      ]
    },
    {
      "cell_type": "code",
      "metadata": {
        "colab": {
          "base_uri": "https://localhost:8080/"
        },
        "id": "SXCDY0L1yruq",
        "outputId": "a7f29c4f-2632-4103-9e0b-7efaec452b79"
      },
      "source": [
        "#Shape of data\n",
        "data.shape"
      ],
      "execution_count": 15,
      "outputs": [
        {
          "output_type": "execute_result",
          "data": {
            "text/plain": [
              "(48842, 11)"
            ]
          },
          "metadata": {
            "tags": []
          },
          "execution_count": 15
        }
      ]
    },
    {
      "cell_type": "code",
      "metadata": {
        "colab": {
          "base_uri": "https://localhost:8080/"
        },
        "id": "WtL9iRVdyzIN",
        "outputId": "9da0f473-8047-4e68-85e5-2dfd5601db98"
      },
      "source": [
        "#Outliers\n",
        "data.max()\n",
        "data.min()"
      ],
      "execution_count": 16,
      "outputs": [
        {
          "output_type": "execute_result",
          "data": {
            "text/plain": [
              "hours_per_week_bin         a. 0-30\n",
              "occupation_bin              a. Low\n",
              "msr_bin                     a. Low\n",
              "capital_gl_bin              a. = 0\n",
              "race_sex_bin                a. Low\n",
              "education_num_bin           a. 0-8\n",
              "education_bin               a. Low\n",
              "workclass_bin         a. no income\n",
              "age_bin                    a. 0-25\n",
              "flag                          test\n",
              "y                                0\n",
              "dtype: object"
            ]
          },
          "metadata": {
            "tags": []
          },
          "execution_count": 16
        }
      ]
    },
    {
      "cell_type": "code",
      "metadata": {
        "colab": {
          "base_uri": "https://localhost:8080/"
        },
        "id": "kdV_tx15y3XC",
        "outputId": "9f0b60e9-4dd7-4881-ec96-04f86ef2cd46"
      },
      "source": [
        "#Number of null values\n",
        "data.isnull().sum()"
      ],
      "execution_count": 17,
      "outputs": [
        {
          "output_type": "execute_result",
          "data": {
            "text/plain": [
              "hours_per_week_bin    0\n",
              "occupation_bin        0\n",
              "msr_bin               0\n",
              "capital_gl_bin        0\n",
              "race_sex_bin          0\n",
              "education_num_bin     0\n",
              "education_bin         0\n",
              "workclass_bin         0\n",
              "age_bin               0\n",
              "flag                  0\n",
              "y                     0\n",
              "dtype: int64"
            ]
          },
          "metadata": {
            "tags": []
          },
          "execution_count": 17
        }
      ]
    },
    {
      "cell_type": "code",
      "metadata": {
        "colab": {
          "base_uri": "https://localhost:8080/"
        },
        "id": "apfTQD_ezHBF",
        "outputId": "657449da-df87-49a2-a1a7-37ecb7340b3e"
      },
      "source": [
        "data.describe\n",
        "data.info\n",
        "data.dtypes # data types look correct\n",
        "data.count()"
      ],
      "execution_count": 28,
      "outputs": [
        {
          "output_type": "execute_result",
          "data": {
            "text/plain": [
              "hours_per_week_bin    48842\n",
              "occupation_bin        48842\n",
              "msr_bin               48842\n",
              "capital_gl_bin        48842\n",
              "race_sex_bin          48842\n",
              "education_num_bin     48842\n",
              "education_bin         48842\n",
              "workclass_bin         48842\n",
              "age_bin               48842\n",
              "flag                  48842\n",
              "y                     48842\n",
              "dtype: int64"
            ]
          },
          "metadata": {
            "tags": []
          },
          "execution_count": 28
        }
      ]
    },
    {
      "cell_type": "markdown",
      "metadata": {
        "id": "CuW2MBrN1z6k"
      },
      "source": [
        "**3. Finding Optimal Value of a key Hyper-parameter**"
      ]
    },
    {
      "cell_type": "code",
      "metadata": {
        "id": "iDZWA4Ex2iOF"
      },
      "source": [
        "results = []\n",
        "max_depth_options = [2,4,6,8,10,12,14,16,18,20]\n",
        "for trees in max_depth_options:\n",
        "    model = DecisionTreeClassifier(max_depth=trees, random_state=101)\n",
        "    model.fit(x_train, y_train)\n",
        "    y_pred = model.predict(x_test)\n",
        "    accuracy = np.mean(y_test==y_pred)\n",
        "    results.append(accuracy)\n",
        "\n",
        "plt.figures(figsize=(8,4))\n",
        "pd.Series(results, max_depth_options).plot(color=\"darkred\",marker=\"o\")"
      ],
      "execution_count": null,
      "outputs": []
    },
    {
      "cell_type": "markdown",
      "metadata": {
        "id": "wjJsn-qK4CP-"
      },
      "source": [
        "4. Building a Random Forest Model"
      ]
    },
    {
      "cell_type": "code",
      "metadata": {
        "id": "RyEy-ZAo4FRo"
      },
      "source": [
        "X = modeling_data[['hours_per_week_bin', 'occupation_bin', 'msr_bin', 'capital_gl_bin', 'race_sex_bin', 'education_num_bin', 'education_bin', 'workclass_bin', 'age_bin']] # features\n",
        "y = modeling_data['y'] #label\n",
        "\n",
        "#splitting data into training and testing sets\n",
        "X_train, X_test, y_train, y_test = train_test_split(X, y, test_size=0.3)"
      ],
      "execution_count": 34,
      "outputs": []
    },
    {
      "cell_type": "code",
      "metadata": {
        "id": "Vye0k25N-_vf"
      },
      "source": [
        "#example model\n",
        "rfc = RandomForestClassifier(n_estimators=100)\n",
        "\n",
        "rfc.fit(X_train,y_train)\n",
        "\n",
        "y_pred=rfc.predict(X_test)"
      ],
      "execution_count": 36,
      "outputs": []
    },
    {
      "cell_type": "code",
      "metadata": {
        "colab": {
          "base_uri": "https://localhost:8080/"
        },
        "id": "Warvs85a_c6i",
        "outputId": "2589ccf3-532a-437a-f556-1a68c7582a0b"
      },
      "source": [
        "#checking accuracy\n",
        "print(\"Accuracy:\" ,metrics.accuracy_score(y_test, y_pred))"
      ],
      "execution_count": 39,
      "outputs": [
        {
          "output_type": "stream",
          "text": [
            "Accuracy: 0.8341636524943697\n"
          ],
          "name": "stdout"
        }
      ]
    },
    {
      "cell_type": "code",
      "metadata": {
        "colab": {
          "base_uri": "https://localhost:8080/",
          "height": 282
        },
        "id": "LUUrPRuaADaq",
        "outputId": "deea2d0b-0582-45f9-9fff-65ab1e173e2f"
      },
      "source": [
        "#checking accuracy for multiple estimators\n",
        "results = []\n",
        "max_depth_options = [50,100,150,200,250,300,350,400,450,500]\n",
        "for trees in max_depth_options:\n",
        "    model = RandomForestClassifier(max_depth=trees, random_state=0)\n",
        "    model.fit(X_train, y_train)\n",
        "    y_pred = model.predict(X_test)\n",
        "    accuracy = np.mean(y_test==y_pred)\n",
        "    results.append(accuracy)\n",
        "\n",
        "plt.figure(figsize=(8,4))\n",
        "pd.Series(results, max_depth_options).plot(color=\"darkred\",marker=\"o\")"
      ],
      "execution_count": 61,
      "outputs": [
        {
          "output_type": "execute_result",
          "data": {
            "text/plain": [
              "<matplotlib.axes._subplots.AxesSubplot at 0x7f1b17a293d0>"
            ]
          },
          "metadata": {
            "tags": []
          },
          "execution_count": 61
        },
        {
          "output_type": "display_data",
          "data": {
            "image/png": "[encoded data removed]",
            "text/plain": [
              "<Figure size 576x288 with 1 Axes>"
            ]
          },
          "metadata": {
            "tags": [],
            "needs_background": "light"
          }
        }
      ]
    },
    {
      "cell_type": "markdown",
      "metadata": {
        "id": "JywLnIfXCbOh"
      },
      "source": [
        "1. Write your observations about the Classifier’s behavior with respect to the\n",
        "number of estimators\n",
        "    *   There does not seem to be a change in accuracy across models with a different number of estimators, which I find hard to believe, though I am also unsure which part of my model is incorrect.\n",
        "\n",
        "2. Is there an optimal value of the estimator within the given range?\n",
        "    *   According to this output, there is not an optimal value of estimators.\n",
        "\n",
        "\n",
        "\n",
        "\n"
      ]
    },
    {
      "cell_type": "markdown",
      "metadata": {
        "id": "wpyxgIL-DhQJ"
      },
      "source": [
        "5. Building AdaBoost, Gradient Boost (classifier) and XGB Model"
      ]
    },
    {
      "cell_type": "code",
      "metadata": {
        "colab": {
          "base_uri": "https://localhost:8080/"
        },
        "id": "OYs8CHsZDnWe",
        "outputId": "99abf1f0-392c-48bf-d095-f4f6661dc338"
      },
      "source": [
        "#AdaBoost\n",
        "clf = AdaBoostClassifier(n_estimators=100)\n",
        "clf.fit(X_train, y_train)\n",
        "y_pred = clf.predict(X_test)\n",
        "\n",
        "#checking accuracy\n",
        "print(\"Accuracy:\" ,metrics.accuracy_score(y_test, y_pred))"
      ],
      "execution_count": 51,
      "outputs": [
        {
          "output_type": "stream",
          "text": [
            "Accuracy: 0.8425578379853955\n"
          ],
          "name": "stdout"
        }
      ]
    },
    {
      "cell_type": "code",
      "metadata": {
        "colab": {
          "base_uri": "https://localhost:8080/",
          "height": 283
        },
        "id": "ajlLzlu9Fjb0",
        "outputId": "4f097116-db9f-4fcf-f8fe-dc76c86ab73c"
      },
      "source": [
        "#checking accuracy for multiple estimators\n",
        "results = []\n",
        "max_depth_options = [50,100,150,200,250,300,350,400,450,500]\n",
        "for trees in max_depth_options:\n",
        "    model = AdaBoostClassifier(DecisionTreeClassifier(max_depth=trees, random_state=101))\n",
        "    model.fit(X_train, y_train)\n",
        "    y_pred = model.predict(X_test)\n",
        "    accuracy = np.mean(y_test==y_pred)\n",
        "    results.append(accuracy)\n",
        "\n",
        "plt.figure(figsize=(8,4))\n",
        "pd.Series(results, max_depth_options).plot(color=\"darkred\",marker=\"o\")"
      ],
      "execution_count": 64,
      "outputs": [
        {
          "output_type": "execute_result",
          "data": {
            "text/plain": [
              "<matplotlib.axes._subplots.AxesSubplot at 0x7f1b17853a10>"
            ]
          },
          "metadata": {
            "tags": []
          },
          "execution_count": 64
        },
        {
          "output_type": "display_data",
          "data": {
            "image/png": "[encoded data removed]",
            "text/plain": [
              "<Figure size 576x288 with 1 Axes>"
            ]
          },
          "metadata": {
            "tags": [],
            "needs_background": "light"
          }
        }
      ]
    },
    {
      "cell_type": "markdown",
      "metadata": {
        "id": "KX6umQ7wHnlv"
      },
      "source": [
        "1. Write your observations about the Classifier’s behavior with respect to the\n",
        "number of estimators\n",
        "    *   The pattern here is quite inconsistent, and we cannot confidently say that accuracy improves as the number of trees increases at a random state of 101. Rerunning the model at any random state value, reproduces an entirely new graph as well, leading to more inconsistencies. \n",
        "\n",
        "2. Is there an optimal value of the estimator within the given range?\n",
        "    *   According to this trial, the optimal number of esitmators is 50."
      ]
    },
    {
      "cell_type": "code",
      "metadata": {
        "colab": {
          "base_uri": "https://localhost:8080/"
        },
        "id": "OMdL5fUTJkAx",
        "outputId": "6c28bd65-0148-40b3-d767-43464db29892"
      },
      "source": [
        "#Gradient Boost\n",
        "\n",
        "clf = GradientBoostingClassifier(n_estimators=100, learning_rate=0.1)\n",
        "clf.fit(X_train, y_train)\n",
        "y_pred = clf.predict(X_test)\n",
        "\n",
        "#checking accuracy\n",
        "print(\"Accuracy:\" ,metrics.accuracy_score(y_test, y_pred))"
      ],
      "execution_count": 114,
      "outputs": [
        {
          "output_type": "stream",
          "text": [
            "Accuracy: 0.8451511635842489\n"
          ],
          "name": "stdout"
        }
      ]
    },
    {
      "cell_type": "code",
      "metadata": {
        "colab": {
          "base_uri": "https://localhost:8080/",
          "height": 282
        },
        "id": "MKYwR4WxMKg6",
        "outputId": "3e25b57f-a97b-4642-a30a-27768dcc0254"
      },
      "source": [
        "#checking accuracy for multiple estimators\n",
        "results = []\n",
        "max_depth_options = [50,100,150,200,250,300,350,400,450,500]\n",
        "for trees in max_depth_options:\n",
        "    model = GradientBoostingClassifier(max_depth=trees, random_state=101)\n",
        "    model.fit(X_train, y_train)\n",
        "    y_pred = model.predict(X_test)\n",
        "    accuracy = np.mean(y_test==y_pred)\n",
        "    results.append(accuracy)\n",
        "\n",
        "plt.figure(figsize=(8,4))\n",
        "pd.Series(results, max_depth_options).plot(color=\"darkred\",marker=\"o\")"
      ],
      "execution_count": 78,
      "outputs": [
        {
          "output_type": "execute_result",
          "data": {
            "text/plain": [
              "<matplotlib.axes._subplots.AxesSubplot at 0x7f1b0d683690>"
            ]
          },
          "metadata": {
            "tags": []
          },
          "execution_count": 78
        },
        {
          "output_type": "display_data",
          "data": {
            "image/png": "[encoded data removed]",
            "text/plain": [
              "<Figure size 576x288 with 1 Axes>"
            ]
          },
          "metadata": {
            "tags": [],
            "needs_background": "light"
          }
        }
      ]
    },
    {
      "cell_type": "code",
      "metadata": {
        "colab": {
          "base_uri": "https://localhost:8080/"
        },
        "id": "0bMygo2ANgHV",
        "outputId": "90ba7762-2a1c-4a6d-a84b-4833ab7604d3"
      },
      "source": [
        "#XGB\n",
        "#method 1\n",
        "D_train = xgb.DMatrix(X_train, label=y_train)\n",
        "D_test = xgb.DMatrix(X_test, label=y_test)\n",
        "\n",
        "param = {\n",
        "    'eta': 0.3,\n",
        "    'max_depth': 100}\n",
        "\n",
        "steps = 20\n",
        "\n",
        "model = xgb.train(param, D_train, steps)\n",
        "\n",
        "#method 2\n",
        "\n",
        "xg_class = xgb.XGBClassifier(learning_rate = 0.1,\n",
        "                max_depth = 5, alpha = 10, n_estimators = 10)\n",
        "\n",
        "xg_class.fit(X_train,y_train)\n",
        "\n",
        "preds = xg_class.predict(X_test)\n",
        "\n",
        "print(\"Accuracy:\" ,metrics.accuracy_score(y_test, y_pred))"
      ],
      "execution_count": 104,
      "outputs": [
        {
          "output_type": "stream",
          "text": [
            "Accuracy: 0.8325257626424623\n"
          ],
          "name": "stdout"
        }
      ]
    },
    {
      "cell_type": "code",
      "metadata": {
        "colab": {
          "base_uri": "https://localhost:8080/",
          "height": 282
        },
        "id": "KEnHF1oPQKtp",
        "outputId": "2b8ddd50-f095-4821-a71c-0a76c7160897"
      },
      "source": [
        "#checking accuracy for multiple estimators\n",
        "results = []\n",
        "max_depth_options = [50,100,150,200,250,300,350,400,450,500]\n",
        "for trees in max_depth_options:\n",
        "    model = xgb.XGBClassifier(max_depth=trees, random_state=101)\n",
        "    model.fit(X_train, y_train)\n",
        "    y_pred = model.predict(X_test)\n",
        "    accuracy = np.mean(y_test==y_pred)\n",
        "    results.append(accuracy)\n",
        "\n",
        "plt.figure(figsize=(8,4))\n",
        "pd.Series(results, max_depth_options).plot(color=\"darkred\",marker=\"o\")"
      ],
      "execution_count": 105,
      "outputs": [
        {
          "output_type": "execute_result",
          "data": {
            "text/plain": [
              "<matplotlib.axes._subplots.AxesSubplot at 0x7f1b0d5f6950>"
            ]
          },
          "metadata": {
            "tags": []
          },
          "execution_count": 105
        },
        {
          "output_type": "display_data",
          "data": {
            "image/png": "[encoded data removed]",
            "text/plain": [
              "<Figure size 576x288 with 1 Axes>"
            ]
          },
          "metadata": {
            "tags": [],
            "needs_background": "light"
          }
        }
      ]
    },
    {
      "cell_type": "markdown",
      "metadata": {
        "id": "iQGZSFntV4Jz"
      },
      "source": [
        "5. Compare Performance"
      ]
    },
    {
      "cell_type": "code",
      "metadata": {
        "colab": {
          "base_uri": "https://localhost:8080/"
        },
        "id": "xufK571nV9ZN",
        "outputId": "fafb4b7a-7ba5-4ff2-d641-66926f308840"
      },
      "source": [
        "#Random Forest\n",
        "rfc = RandomForestClassifier(n_estimators=100)\n",
        "\n",
        "rfc.fit(X_train,y_train)\n",
        "\n",
        "y_pred=rfc.predict(X_test)\n",
        "\n",
        "print(\"Accuracy:\" ,metrics.accuracy_score(y_test, y_pred))\n",
        "print(\"AUC:\" ,metrics.roc_auc_score(y_test, y_pred))"
      ],
      "execution_count": 107,
      "outputs": [
        {
          "output_type": "stream",
          "text": [
            "Accuracy: 0.8345048795468505\n",
            "AUC: 0.742532753277573\n"
          ],
          "name": "stdout"
        }
      ]
    },
    {
      "cell_type": "code",
      "metadata": {
        "colab": {
          "base_uri": "https://localhost:8080/"
        },
        "id": "49HK2W-IXfRw",
        "outputId": "e2749397-0e65-48b0-ad99-e0105a2e391c"
      },
      "source": [
        "#AdaBoost\n",
        "clf = AdaBoostClassifier(n_estimators=100)\n",
        "clf.fit(X_train, y_train)\n",
        "y_pred = clf.predict(X_test)\n",
        "\n",
        "#checking accuracy\n",
        "print(\"Accuracy:\" ,metrics.accuracy_score(y_test, y_pred))\n",
        "print(\"AUC:\" ,metrics.roc_auc_score(y_test, y_pred))"
      ],
      "execution_count": 108,
      "outputs": [
        {
          "output_type": "stream",
          "text": [
            "Accuracy: 0.8425578379853955\n",
            "AUC: 0.7431724906451644\n"
          ],
          "name": "stdout"
        }
      ]
    },
    {
      "cell_type": "code",
      "metadata": {
        "colab": {
          "base_uri": "https://localhost:8080/"
        },
        "id": "qOf5It7PXsoU",
        "outputId": "ff4d40f0-803d-497d-8c66-f667d71476a8"
      },
      "source": [
        "#GradientBoost\n",
        "\n",
        "classifier = GradientBoostingClassifier(n_estimators=100, learning_rate=0.1)\n",
        "classifier.fit(X_train, y_train)\n",
        "y_pred = classifier.predict(X_test)\n",
        "\n",
        "#checking accuracy\n",
        "print(\"Accuracy:\" ,metrics.accuracy_score(y_test, y_pred))\n",
        "print(\"AUC:\" ,metrics.roc_auc_score(y_test, y_pred))"
      ],
      "execution_count": 112,
      "outputs": [
        {
          "output_type": "stream",
          "text": [
            "Accuracy: 0.8451511635842489\n",
            "AUC: 0.7548795058813997\n"
          ],
          "name": "stdout"
        }
      ]
    },
    {
      "cell_type": "code",
      "metadata": {
        "colab": {
          "base_uri": "https://localhost:8080/"
        },
        "id": "MXs7Fo6kYYH7",
        "outputId": "989db4d8-e547-4cf6-eb2a-225e917663f6"
      },
      "source": [
        "#XGB\n",
        "xg_class = xgb.XGBClassifier(learning_rate = 0.1,\n",
        "                max_depth = 5, alpha = 10, n_estimators = 10)\n",
        "\n",
        "xg_class.fit(X_train,y_train)\n",
        "\n",
        "preds = xg_class.predict(X_test)\n",
        "\n",
        "print(\"Accuracy:\" ,metrics.accuracy_score(y_test, y_pred))\n",
        "print(\"AUC:\" ,metrics.roc_auc_score(y_test, y_pred))"
      ],
      "execution_count": 113,
      "outputs": [
        {
          "output_type": "stream",
          "text": [
            "Accuracy: 0.8451511635842489\n",
            "AUC: 0.7548795058813997\n"
          ],
          "name": "stdout"
        }
      ]
    }
  ]
}